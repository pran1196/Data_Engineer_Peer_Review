{
 "cells": [
  {
   "cell_type": "markdown",
   "metadata": {},
   "source": [
    "<p style=\"text-align:center\">\n",
    "    <a href=\"https://skills.network/?utm_medium=Exinfluencer&utm_source=Exinfluencer&utm_content=000026UJ&utm_term=10006555&utm_id=NA-SkillsNetwork-Channel-SkillsNetworkCoursesIBMDeveloperSkillsNetworkPY0221ENSkillsNetwork899-2023-01-01\">\n",
    "    <img src=\"https://cf-courses-data.s3.us.cloud-object-storage.appdomain.cloud/assets/logos/SN_web_lightmode.png\" width=\"200\" alt=\"Skills Network Logo\"  />\n",
    "    </a>\n",
    "</p>\n"
   ]
  },
  {
   "cell_type": "markdown",
   "metadata": {},
   "source": [
    "# Peer Review Assignment - Data Engineer - Extract API Data\n"
   ]
  },
  {
   "cell_type": "markdown",
   "metadata": {},
   "source": [
    "Estimated time needed: **20** minutes\n"
   ]
  },
  {
   "cell_type": "markdown",
   "metadata": {},
   "source": [
    "## Objectives\n",
    "\n",
    "In this part you will:\n",
    "\n",
    "-   Collect exchange rate data using an API\n",
    "-   Store the data as a CSV\n"
   ]
  },
  {
   "cell_type": "markdown",
   "metadata": {},
   "source": [
    "For this lab, we are going to be using Python and several Python libraries. Some of these libraries might be installed in your lab environment or in SN Labs. Others may need to be installed by you. The cells below will install these libraries when executed.\n"
   ]
  },
  {
   "cell_type": "code",
   "execution_count": null,
   "metadata": {},
   "outputs": [],
   "source": [
    "#!mamba install pandas==1.3.3 -y\n",
    "#!mamba install requests==2.26.0 -y"
   ]
  },
  {
   "cell_type": "markdown",
   "metadata": {},
   "source": [
    "## Imports\n",
    "\n",
    "Import any additional libraries you may need here.\n"
   ]
  },
  {
   "cell_type": "code",
   "execution_count": 1,
   "metadata": {
    "tags": []
   },
   "outputs": [],
   "source": [
    "import requests\n",
    "import pandas as pd\n",
    "import urllib.request, urllib.parse, urllib.error\n",
    "import json\n",
    "import ssl"
   ]
  },
  {
   "cell_type": "markdown",
   "metadata": {},
   "source": [
    "## Extract Data Using an API\n"
   ]
  },
  {
   "cell_type": "markdown",
   "metadata": {},
   "source": [
    "Using ExchangeRate-API we will extract currency exchange rate data. Use the below steps to get the access key and to get the data. \n",
    "1. Open the url : https://exchangeratesapi.io/ and click on **Get Free API Key**. \n",
    "2. Subscribe for Free plan and Sign-in with the Google Account. \n",
    "3. Once the account is created you will be redirected to https://apilayer.com website.\n",
    "2. Now, click on the **user icon** and click **Account** as shown below:\n",
    "\n",
    "<img src=\"https://cf-courses-data.s3.us.cloud-object-storage.appdomain.cloud/IBMDeveloperSkillsNetwork-PY0221EN-SkillsNetwork/labs/module%206/Final%20Assignment/Images/account.png\">\n",
    "\n",
    "3. Scroll down and you will get the API Key section. Copy the API key and use in the url in Question 1.\n"
   ]
  },
  {
   "cell_type": "markdown",
   "metadata": {},
   "source": [
    "### Call the API\n",
    "\n",
    " <b> Question 1</b> Using the `requests` library call the endpoint given above and save the text, remember the first few characters of the output: \n"
   ]
  },
  {
   "cell_type": "code",
   "execution_count": 2,
   "metadata": {
    "tags": []
   },
   "outputs": [
    {
     "name": "stdout",
     "output_type": "stream",
     "text": [
      "Retrieved 2819 characters\n",
      "{'success': True, 'timestamp': 1692498003, 'base': 'EUR', 'date': '2023-08-20', 'rates': {'AED': 3.999374, 'AFN': 91.564377, 'ALL': 106.17029, 'AMD': 419.882504, 'ANG': 1.957252, 'AOA': 901.564314, 'ARS': 380.089039, 'AUD': 1.707423, 'AWG': 1.959922, 'AZN': 1.85536, 'BAM': 1.955253, 'BBD': 2.192786, 'BDT': 118.866737, 'BGN': 1.961995, 'BHD': 0.409385, 'BIF': 3078.838444, 'BMD': 1.088845, 'BND': 1.474987, 'BOB': 7.5039, 'BRL': 5.412437, 'BSD': 1.085996, 'BTC': 4.1522534e-05, 'BTN': 90.293733, 'BWP': 14.775865, 'BYN': 2.741133, 'BYR': 21341.368016, 'BZD': 2.189087, 'CAD': 1.4774, 'CDF': 2667.671396, 'CHF': 0.960406, 'CLF': 0.034132, 'CLP': 941.806453, 'CNY': 7.927996, 'COP': 4464.750623, 'CRC': 579.537827, 'CUC': 1.088845, 'CUP': 28.854401, 'CVE': 110.234153, 'CZK': 24.053904, 'DJF': 193.36589, 'DKK': 7.462188, 'DOP': 61.632753, 'DZD': 148.453597, 'EGP': 33.55731, 'ERN': 16.33268, 'ETB': 59.933229, 'EUR': 1, 'FJD': 2.474188, 'FKP': 0.854723, 'GBP': 0.855069, 'GEL': 2.8532, 'GGP': 0.854723, 'GHS': 12.287562, 'GIP': 0.854723, 'GMD': 65.930008, 'GNF': 9331.388785, 'GTQ': 8.524615, 'GYD': 227.436356, 'HKD': 8.526585, 'HNL': 26.725521, 'HRK': 7.494305, 'HTG': 147.698669, 'HUF': 382.881986, 'IDR': 16682.198948, 'ILS': 4.132223, 'IMP': 0.854723, 'INR': 90.545152, 'IQD': 1422.401967, 'IRR': 46030.935735, 'ISK': 143.949505, 'JEP': 0.854723, 'JMD': 167.713069, 'JOD': 0.770689, 'JPY': 158.334483, 'KES': 154.996627, 'KGS': 96.112794, 'KHR': 4491.743069, 'KMF': 492.706635, 'KPW': 979.97508, 'KRW': 1459.227344, 'KWD': 0.335354, 'KYD': 0.905047, 'KZT': 493.132006, 'LAK': 21185.071753, 'LBP': 16300.838514, 'LKR': 350.761846, 'LRD': 202.797854, 'LSL': 20.819138, 'LTL': 3.215078, 'LVL': 0.658632, 'LYD': 5.238534, 'MAD': 10.705504, 'MDL': 19.303598, 'MGA': 4916.624174, 'MKD': 61.602762, 'MMK': 2280.561827, 'MNT': 3780.111024, 'MOP': 8.759949, 'MRO': 388.717587, 'MUR': 49.469357, 'MVR': 16.741039, 'MWK': 1177.870395, 'MXN': 18.573638, 'MYR': 5.065857, 'MZN': 68.869877, 'NAD': 20.808245, 'NGN': 837.870522, 'NIO': 39.728883, 'NOK': 11.611995, 'NPR': 144.469573, 'NZD': 1.838645, 'OMR': 0.418183, 'PAB': 1.085996, 'PEN': 4.03957, 'PGK': 3.960892, 'PHP': 61.206214, 'PKR': 322.540943, 'PLN': 4.46641, 'PYG': 7885.793308, 'QAR': 3.964758, 'RON': 4.953053, 'RSD': 117.227196, 'RUB': 102.461474, 'RWF': 1284.940433, 'SAR': 4.083501, 'SBD': 9.113112, 'SCR': 14.532633, 'SDG': 654.2544, 'SEK': 11.938802, 'SGD': 1.47936, 'SHP': 1.324853, 'SLE': 23.305913, 'SLL': 21504.695181, 'SOS': 619.012547, 'SSP': 654.396397, 'SRD': 41.594439, 'STD': 22536.899484, 'SYP': 14263.879086, 'SZL': 20.706206, 'THB': 38.730776, 'TJS': 11.929662, 'TMT': 3.810959, 'TND': 3.360725, 'TOP': 2.602889, 'TRY': 29.514027, 'TTD': 7.364939, 'TWD': 34.746184, 'TZS': 2720.438736, 'UAH': 40.108176, 'UGX': 4055.865042, 'USD': 1.088845, 'UYU': 41.108497, 'UZS': 13116.32964, 'VEF': 3445777.654653, 'VES': 34.377256, 'VND': 25936.295212, 'VUV': 132.413121, 'WST': 3.030345, 'XAF': 655.773494, 'XAG': 0.047875, 'XAU': 0.000576, 'XCD': 2.942659, 'XDR': 0.814272, 'XOF': 655.773494, 'XPF': 120.018015, 'YER': 272.592818, 'ZAR': 20.755591, 'ZMK': 9800.918284, 'ZMW': 21.041112, 'ZWL': 350.607745}} ==== Failure To Retrieve ====\n",
      "{\"success\":true,\"timestamp\":1692498003,\"base\":\"EUR\",\"date\":\"2023-08-20\",\"rates\":{\"AED\":3.999374,\"AFN\":91.564377,\"ALL\":106.17029,\"AMD\":419.882504,\"ANG\":1.957252,\"AOA\":901.564314,\"ARS\":380.089039,\"AUD\":1.707423,\"AWG\":1.959922,\"AZN\":1.85536,\"BAM\":1.955253,\"BBD\":2.192786,\"BDT\":118.866737,\"BGN\":1.961995,\"BHD\":0.409385,\"BIF\":3078.838444,\"BMD\":1.088845,\"BND\":1.474987,\"BOB\":7.5039,\"BRL\":5.412437,\"BSD\":1.085996,\"BTC\":4.1522534e-5,\"BTN\":90.293733,\"BWP\":14.775865,\"BYN\":2.741133,\"BYR\":21341.368016,\"BZD\":2.189087,\"CAD\":1.4774,\"CDF\":2667.671396,\"CHF\":0.960406,\"CLF\":0.034132,\"CLP\":941.806453,\"CNY\":7.927996,\"COP\":4464.750623,\"CRC\":579.537827,\"CUC\":1.088845,\"CUP\":28.854401,\"CVE\":110.234153,\"CZK\":24.053904,\"DJF\":193.36589,\"DKK\":7.462188,\"DOP\":61.632753,\"DZD\":148.453597,\"EGP\":33.55731,\"ERN\":16.33268,\"ETB\":59.933229,\"EUR\":1,\"FJD\":2.474188,\"FKP\":0.854723,\"GBP\":0.855069,\"GEL\":2.8532,\"GGP\":0.854723,\"GHS\":12.287562,\"GIP\":0.854723,\"GMD\":65.930008,\"GNF\":9331.388785,\"GTQ\":8.524615,\"GYD\":227.436356,\"HKD\":8.526585,\"HNL\":26.725521,\"HRK\":7.494305,\"HTG\":147.698669,\"HUF\":382.881986,\"IDR\":16682.198948,\"ILS\":4.132223,\"IMP\":0.854723,\"INR\":90.545152,\"IQD\":1422.401967,\"IRR\":46030.935735,\"ISK\":143.949505,\"JEP\":0.854723,\"JMD\":167.713069,\"JOD\":0.770689,\"JPY\":158.334483,\"KES\":154.996627,\"KGS\":96.112794,\"KHR\":4491.743069,\"KMF\":492.706635,\"KPW\":979.97508,\"KRW\":1459.227344,\"KWD\":0.335354,\"KYD\":0.905047,\"KZT\":493.132006,\"LAK\":21185.071753,\"LBP\":16300.838514,\"LKR\":350.761846,\"LRD\":202.797854,\"LSL\":20.819138,\"LTL\":3.215078,\"LVL\":0.658632,\"LYD\":5.238534,\"MAD\":10.705504,\"MDL\":19.303598,\"MGA\":4916.624174,\"MKD\":61.602762,\"MMK\":2280.561827,\"MNT\":3780.111024,\"MOP\":8.759949,\"MRO\":388.717587,\"MUR\":49.469357,\"MVR\":16.741039,\"MWK\":1177.870395,\"MXN\":18.573638,\"MYR\":5.065857,\"MZN\":68.869877,\"NAD\":20.808245,\"NGN\":837.870522,\"NIO\":39.728883,\"NOK\":11.611995,\"NPR\":144.469573,\"NZD\":1.838645,\"OMR\":0.418183,\"PAB\":1.085996,\"PEN\":4.03957,\"PGK\":3.960892,\"PHP\":61.206214,\"PKR\":322.540943,\"PLN\":4.46641,\"PYG\":7885.793308,\"QAR\":3.964758,\"RON\":4.953053,\"RSD\":117.227196,\"RUB\":102.461474,\"RWF\":1284.940433,\"SAR\":4.083501,\"SBD\":9.113112,\"SCR\":14.532633,\"SDG\":654.2544,\"SEK\":11.938802,\"SGD\":1.47936,\"SHP\":1.324853,\"SLE\":23.305913,\"SLL\":21504.695181,\"SOS\":619.012547,\"SSP\":654.396397,\"SRD\":41.594439,\"STD\":22536.899484,\"SYP\":14263.879086,\"SZL\":20.706206,\"THB\":38.730776,\"TJS\":11.929662,\"TMT\":3.810959,\"TND\":3.360725,\"TOP\":2.602889,\"TRY\":29.514027,\"TTD\":7.364939,\"TWD\":34.746184,\"TZS\":2720.438736,\"UAH\":40.108176,\"UGX\":4055.865042,\"USD\":1.088845,\"UYU\":41.108497,\"UZS\":13116.32964,\"VEF\":3445777.654653,\"VES\":34.377256,\"VND\":25936.295212,\"VUV\":132.413121,\"WST\":3.030345,\"XAF\":655.773494,\"XAG\":0.047875,\"XAU\":0.000576,\"XCD\":2.942659,\"XDR\":0.814272,\"XOF\":655.773494,\"XPF\":120.018015,\"YER\":272.592818,\"ZAR\":20.755591,\"ZMK\":9800.918284,\"ZMW\":21.041112,\"ZWL\":350.607745}}\n"
     ]
    }
   ],
   "source": [
    "# Write your code here\n",
    "url = \"http://api.exchangeratesapi.io/v1/latest?base=EUR&access_key=54da32bea276601e315ca53ef9995f24\"  #Make sure to change ******* to your API key.\n",
    "ctx = ssl.create_default_context()\n",
    "ctx.check_hostname = False\n",
    "ctx.verify_mode = ssl.CERT_NONE\n",
    "\n",
    "\n",
    "uh = urllib.request.urlopen(url, context=ctx)\n",
    "data = uh.read().decode()\n",
    "print('Retrieved', len(data), 'characters')\n",
    "#    print(type(data))\n",
    "try:\n",
    "    js = json.loads(data)\n",
    "except:\n",
    "    js = None\n",
    "    \n",
    "if not js or 'status' not in js or js['status'] != 'OK':\n",
    "    print(js,'==== Failure To Retrieve ====')\n",
    "    print(data)"
   ]
  },
  {
   "cell_type": "markdown",
   "metadata": {},
   "source": [
    "### Save as DataFrame\n",
    "\n",
    " <b> Question 2</b>  Using the data gathered turn it into a `pandas` dataframe. The dataframe should have the Currency as the index and `Rate` as their columns. Make sure to drop unnecessary columns.\n"
   ]
  },
  {
   "cell_type": "code",
   "execution_count": 4,
   "metadata": {
    "tags": []
   },
   "outputs": [
    {
     "data": {
      "text/html": [
       "<div>\n",
       "<style scoped>\n",
       "    .dataframe tbody tr th:only-of-type {\n",
       "        vertical-align: middle;\n",
       "    }\n",
       "\n",
       "    .dataframe tbody tr th {\n",
       "        vertical-align: top;\n",
       "    }\n",
       "\n",
       "    .dataframe thead th {\n",
       "        text-align: right;\n",
       "    }\n",
       "</style>\n",
       "<table border=\"1\" class=\"dataframe\">\n",
       "  <thead>\n",
       "    <tr style=\"text-align: right;\">\n",
       "      <th></th>\n",
       "      <th>success</th>\n",
       "      <th>timestamp</th>\n",
       "      <th>base</th>\n",
       "      <th>date</th>\n",
       "      <th>rates</th>\n",
       "    </tr>\n",
       "  </thead>\n",
       "  <tbody>\n",
       "    <tr>\n",
       "      <th>AED</th>\n",
       "      <td>True</td>\n",
       "      <td>1692498003</td>\n",
       "      <td>EUR</td>\n",
       "      <td>2023-08-20</td>\n",
       "      <td>3.999374</td>\n",
       "    </tr>\n",
       "    <tr>\n",
       "      <th>AFN</th>\n",
       "      <td>True</td>\n",
       "      <td>1692498003</td>\n",
       "      <td>EUR</td>\n",
       "      <td>2023-08-20</td>\n",
       "      <td>91.564377</td>\n",
       "    </tr>\n",
       "    <tr>\n",
       "      <th>ALL</th>\n",
       "      <td>True</td>\n",
       "      <td>1692498003</td>\n",
       "      <td>EUR</td>\n",
       "      <td>2023-08-20</td>\n",
       "      <td>106.170290</td>\n",
       "    </tr>\n",
       "    <tr>\n",
       "      <th>AMD</th>\n",
       "      <td>True</td>\n",
       "      <td>1692498003</td>\n",
       "      <td>EUR</td>\n",
       "      <td>2023-08-20</td>\n",
       "      <td>419.882504</td>\n",
       "    </tr>\n",
       "    <tr>\n",
       "      <th>ANG</th>\n",
       "      <td>True</td>\n",
       "      <td>1692498003</td>\n",
       "      <td>EUR</td>\n",
       "      <td>2023-08-20</td>\n",
       "      <td>1.957252</td>\n",
       "    </tr>\n",
       "  </tbody>\n",
       "</table>\n",
       "</div>"
      ],
      "text/plain": [
       "     success   timestamp base        date       rates\n",
       "AED     True  1692498003  EUR  2023-08-20    3.999374\n",
       "AFN     True  1692498003  EUR  2023-08-20   91.564377\n",
       "ALL     True  1692498003  EUR  2023-08-20  106.170290\n",
       "AMD     True  1692498003  EUR  2023-08-20  419.882504\n",
       "ANG     True  1692498003  EUR  2023-08-20    1.957252"
      ]
     },
     "execution_count": 4,
     "metadata": {},
     "output_type": "execute_result"
    }
   ],
   "source": [
    "# Turn the data into a dataframe\n",
    "rates_dict=js   #js['rates']\n",
    "df=pd.DataFrame(rates_dict)\n",
    "df.head()"
   ]
  },
  {
   "cell_type": "code",
   "execution_count": 5,
   "metadata": {
    "tags": []
   },
   "outputs": [
    {
     "data": {
      "text/html": [
       "<div>\n",
       "<style scoped>\n",
       "    .dataframe tbody tr th:only-of-type {\n",
       "        vertical-align: middle;\n",
       "    }\n",
       "\n",
       "    .dataframe tbody tr th {\n",
       "        vertical-align: top;\n",
       "    }\n",
       "\n",
       "    .dataframe thead th {\n",
       "        text-align: right;\n",
       "    }\n",
       "</style>\n",
       "<table border=\"1\" class=\"dataframe\">\n",
       "  <thead>\n",
       "    <tr style=\"text-align: right;\">\n",
       "      <th></th>\n",
       "      <th>base</th>\n",
       "      <th>date</th>\n",
       "      <th>rates</th>\n",
       "    </tr>\n",
       "  </thead>\n",
       "  <tbody>\n",
       "    <tr>\n",
       "      <th>AED</th>\n",
       "      <td>EUR</td>\n",
       "      <td>2023-08-20</td>\n",
       "      <td>3.999374</td>\n",
       "    </tr>\n",
       "    <tr>\n",
       "      <th>AFN</th>\n",
       "      <td>EUR</td>\n",
       "      <td>2023-08-20</td>\n",
       "      <td>91.564377</td>\n",
       "    </tr>\n",
       "    <tr>\n",
       "      <th>ALL</th>\n",
       "      <td>EUR</td>\n",
       "      <td>2023-08-20</td>\n",
       "      <td>106.170290</td>\n",
       "    </tr>\n",
       "    <tr>\n",
       "      <th>AMD</th>\n",
       "      <td>EUR</td>\n",
       "      <td>2023-08-20</td>\n",
       "      <td>419.882504</td>\n",
       "    </tr>\n",
       "    <tr>\n",
       "      <th>ANG</th>\n",
       "      <td>EUR</td>\n",
       "      <td>2023-08-20</td>\n",
       "      <td>1.957252</td>\n",
       "    </tr>\n",
       "  </tbody>\n",
       "</table>\n",
       "</div>"
      ],
      "text/plain": [
       "    base        date       rates\n",
       "AED  EUR  2023-08-20    3.999374\n",
       "AFN  EUR  2023-08-20   91.564377\n",
       "ALL  EUR  2023-08-20  106.170290\n",
       "AMD  EUR  2023-08-20  419.882504\n",
       "ANG  EUR  2023-08-20    1.957252"
      ]
     },
     "execution_count": 5,
     "metadata": {},
     "output_type": "execute_result"
    }
   ],
   "source": [
    "# Drop unnescessary columns\n",
    "df1=df.drop(df.columns[[0,1]], axis=1)\n",
    "df1.head()"
   ]
  },
  {
   "cell_type": "markdown",
   "metadata": {},
   "source": [
    "### Load the Data\n",
    "\n",
    "Using the dataframe save it as a CSV names `exchange_rates_1.csv`.\n"
   ]
  },
  {
   "cell_type": "code",
   "execution_count": 6,
   "metadata": {
    "tags": []
   },
   "outputs": [],
   "source": [
    "# Save the Dataframe\n",
    "df2=df1.drop(['base','date'], axis=1)\n",
    "df2.head()\n",
    "df2.to_csv('exchange_rates_1.csv')"
   ]
  },
  {
   "cell_type": "markdown",
   "metadata": {},
   "source": [
    "Your CSV should be in this format with more currencies\n",
    "\n",
    "| | Rates |\n",
    "| ------- | ------- |\n",
    "|  AED| 4.398618    |\n",
    "|  AFN| 92.917693   |  \n",
    "|  ALL| 123.099093  |\n",
    "|  AMD| 621.935674  |\n",
    "|  ANG| 2.149648    | \n"
   ]
  },
  {
   "cell_type": "markdown",
   "metadata": {},
   "source": [
    "## Authors\n"
   ]
  },
  {
   "cell_type": "markdown",
   "metadata": {},
   "source": [
    "Ramesh Sannareddy, Joseph Santarcangelo and Azim Hirjani\n"
   ]
  },
  {
   "cell_type": "markdown",
   "metadata": {},
   "source": [
    "### Other Contributors\n"
   ]
  },
  {
   "cell_type": "markdown",
   "metadata": {},
   "source": [
    "Rav Ahuja\n"
   ]
  },
  {
   "cell_type": "markdown",
   "metadata": {},
   "source": [
    "## Change Log\n"
   ]
  },
  {
   "cell_type": "markdown",
   "metadata": {},
   "source": [
    "| Date (YYYY-MM-DD) | Version | Changed By        | Change Description                 |\n",
    "| ----------------- | ------- | ----------------- | ---------------------------------- |\n",
    "| 2022-05-06        | 0.3     | Malika            | Updated instructions to get the API and the url|\n",
    "| 2021-04-15        | 0.2     | Malika            | Updated the lab from USD to EUR    |\n",
    "| 2020-11-25        | 0.1     | Ramesh Sannareddy | Created initial version of the lab |\n"
   ]
  },
  {
   "cell_type": "markdown",
   "metadata": {},
   "source": [
    " Copyright © 2020 IBM Corporation. This notebook and its source code are released under the terms of the [MIT License](https://cognitiveclass.ai/mit-license?utm_medium=Exinfluencer&utm_source=Exinfluencer&utm_content=000026UJ&utm_term=10006555&utm_id=NA-SkillsNetwork-Channel-SkillsNetworkCoursesIBMDeveloperSkillsNetworkPY0221ENSkillsNetwork899-2023-01-01&cm_mmc=Email_Newsletter-_-Developer_Ed%2BTech-_-WW_WW-_-SkillsNetwork-Courses-IBM-DA0321EN-SkillsNetwork-21426264&cm_mmca1=000026UJ&cm_mmca2=10006555&cm_mmca3=M12345678&cvosrc=email.Newsletter.M12345678&cvo_campaign=000026UJ).\n"
   ]
  }
 ],
 "metadata": {
  "kernelspec": {
   "display_name": "Python",
   "language": "python",
   "name": "conda-env-python-py"
  },
  "language_info": {
   "codemirror_mode": {
    "name": "ipython",
    "version": 3
   },
   "file_extension": ".py",
   "mimetype": "text/x-python",
   "name": "python",
   "nbconvert_exporter": "python",
   "pygments_lexer": "ipython3",
   "version": "3.7.12"
  }
 },
 "nbformat": 4,
 "nbformat_minor": 4
}
